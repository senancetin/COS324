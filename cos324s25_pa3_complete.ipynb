{
 "cells": [
  {
   "cell_type": "markdown",
   "metadata": {
    "id": "xqiGsdfL3EOF"
   },
   "source": [
    "# Programming Assignment 3: Low Rank Matrix Approximation\n",
    "\n",
    "**Assignment submission:** This assignment is to be uploaded as both a .ipynb file and a converted .pdf file **via Gradescope**. You can submit as often as you need, but only the last submission is graded, and submissions made after the deadline may incur a late penalty depending on your remaining free late hours."
   ]
  },
  {
   "cell_type": "markdown",
   "metadata": {},
   "source": [
    "## Assignment Instructions\n",
    "\n",
    "**Programming assignments will be written in Python.** For more help with using Python, please refer to the pre-work resources in our syllabus and to the notebooks from Precept 1 (python primer) and Precept 2 (linear regression using the `numpy` library) and Precept 6 (using the `pandas` library).\n",
    "\n",
    "* Make sure that you run all cells before submitting.\n",
    "\n",
    "* Verify that you have all assignment files copied over:\n",
    "  1. `cos324s25_pa3.ipynb` - Assignment Notebook\n",
    "  2. `ratings.csv` - Data file used in Part 2\n",
    "  3. `movies.csv` - Data file used in Part 2\n",
    "\n",
    "* Throughout this assignment, we ask you to avoid using loops wherever possible. Read the comments before each function carefully and note whenever we indicate that \"*Your implementation must be vectorized. You may not use a python loop*.\"\n",
    "\n",
    "* **We strongly suggest that you run Jupyter Notebook using [MyAdroit](https://myadroit.princeton.edu). *We will only support running Jupyter Notebook on MyAdroit in office hours*.** We will not be able to help you with issues/instructions regarding local Python environments.\n",
    "* The instructions for the assignments will provide some guidance on finding useful functions for completing the assignment, but **it will be up to you to search for the exact documentation for specific functions**. Learning to search for helpful information is an important skill for programming.\n",
    "* **We expect your code to be readable and interpretable**, with meaningful variable names and comments that help us understand your code. Please refer to [PEP 8](https://www.python.org/dev/peps/pep-0008/) for guidance.\n",
    "* **Consulting course staff (e.g. TAs, UCAs) and/or other students from this course is allowed.** Please refer to our collaboration policy for guidance on what is and isn't acceptable.\n",
    "  * **List your collaborators for each problem in a collaboration statement in the next cell.**\n",
    "  * You should also **cite all sources** you consulted per problem if they aren't a required or optional course reading. You can do this using a Python comment: `# Consulted this source: ...`.\n",
    "* **You may not use unauthorized packages or libraries.** If you use code from outside sources or past/other academic work, it must be targeted toward a single and minute purpose (e.g. one or two lines of code for changing the scale of plot axes) and not make up a significant portion of your submission. If you are copying a block of code, you are likely in violation of this rule."
   ]
  },
  {
   "cell_type": "markdown",
   "metadata": {
    "id": "yUPdaUWJ5jPH"
   },
   "source": [
    "## Collaboration statement\n",
    "\n",
    "List all collaborators by name, including other students and/or course staff (e.g. TAs, UCAs). If you collaborated with no one on this assignment, write the following: ``\"I did not collaborate with anyone on this assignment.\"``\n",
    "\n",
    "Elif Selin Kozanoglu"
   ]
  },
  {
   "cell_type": "markdown",
   "metadata": {
    "id": "xb5qMLcC6JDl"
   },
   "source": [
    "## Overview\n",
    "\n",
    "In this assignment, we will practice implementing and applying low-rank approximation of matrices, which is useful for finding hidden relationships that might not be apparent from high-dimensional data.\n",
    "\n",
    "<ins>Format of this PA:<ins>\n",
    "1. Implement Low Rank Matrix Approximation (LORMA) (ACT 1-6)\n",
    "2. Perform movie recommendation using LORMA (ACT 7-10)\n",
    "    * For this part, you will use the `ratings.csv` and `movies.csv` files provided as part of the assignment files."
   ]
  },
  {
   "cell_type": "markdown",
   "metadata": {
    "id": "iBRYY2cU3EOL"
   },
   "source": [
    "<hr style=\"border:3px solid blue\"> </hr>\n",
    "\n",
    "# **Part 1: Implementing Low-Rank Matrix Approximation (LORMA)**\n",
    "\n",
    "### Formal definition and notation\n",
    "\n",
    "In this assignment you will be required to approximate a partially observed (typically) large matrix using a product of low rank matrices. Let us recap the ingredients of low rank matrix approximation:  <p>\n",
    "\n",
    "- Observed matrix $\\mathsf{M}$ of size $m \\times n$ with real valued entries and missing values <p>\n",
    "    \n",
    "- Low rank matrices $\\mathsf{A}$ of size $m \\times k$ and $\\mathsf{B}$ of size $k \\times n$ <p>\n",
    "    \n",
    "- We would like to find $\\mathsf{A}, \\mathsf{B}$ such that $\\mathsf{M} \\approx \\mathsf{A} \\mathsf{B}$. We will denote $\\hat{\\mathsf{M}} = \\mathsf{A}\\mathsf{B}$ <p>\n",
    "    \n",
    "Let $\\Omega$ denote the set of entries $(i,j)$ where we know the value of $\\mathsf{M}_{ij}$. We are going to measure the goodness of our approximation using the squared error at entries $(i,j)$ in $\\Omega$ (i.e., at observed entries of $\\mathsf{M}$). Therefore the loss is,\n",
    "$$ L = \\frac{1}{|\\Omega|} \\sum_{(i,j)\\in \\Omega} \\! \\big(\\mathsf{M}_{ij} -  \\hat{\\mathsf{M}}_{ij}\\big)^2 ~. $$"
   ]
  },
  {
   "cell_type": "markdown",
   "metadata": {
    "id": "Ty5sHbCHCQtT"
   },
   "source": [
    "#### ACT1: Implement average squared loss function (8 pts)"
   ]
  },
  {
   "cell_type": "code",
   "execution_count": 1,
   "metadata": {
    "colab": {
     "base_uri": "https://localhost:8080/"
    },
    "executionInfo": {
     "elapsed": 158,
     "status": "ok",
     "timestamp": 1730496982157,
     "user": {
      "displayName": "Meenal Parakh",
      "userId": "16783211202843909075"
     },
     "user_tz": 240
    },
    "id": "a6Kbb5Ob3EOM",
    "outputId": "893f991e-d1da-41be-e4f2-1a78679662fd"
   },
   "outputs": [
    {
     "name": "stdout",
     "output_type": "stream",
     "text": [
      "Function loss() is working fine!\n"
     ]
    }
   ],
   "source": [
    "import matplotlib.pyplot as plt\n",
    "import numpy as np\n",
    "\n",
    "# Given M, M_approx, O, return the average squared loss over the observed entries.\n",
    "#\n",
    "# parameters\n",
    "# M:        m x n 2-D numpy array\n",
    "#           containing the observed entries (with arbitrary values in the unobserved entries)\n",
    "#\n",
    "# M_approx: m x n 2-D numpy array\n",
    "#           representing the low-dimensional approximation\n",
    "#\n",
    "# O:        m x n 2-D numpy array\n",
    "#           containing 0 if the entry is unobserved and 1 if the entry is observed in M.\n",
    "#           O tells you which entries in M were observed (corresponds to \\Omega in the equations above)\n",
    "#\n",
    "# output\n",
    "# loss:     average of squared loss over observed entries\n",
    "#\n",
    "# NOTE: No loops please! Your implementation must be vectorized. You may not use a python loop\n",
    "def loss(M, M_approx, O):\n",
    "    ### ACT1: add your code here\n",
    "    \n",
    "    # pull observed error entries\n",
    "    M_error = (M - M_approx)[O == 1]\n",
    "\n",
    "    # compute avg squared loss\n",
    "    loss = np.mean(M_error ** 2)\n",
    "\n",
    "    return loss\n",
    "\n",
    "# The following functions checks if your implementation of loss() is correct\n",
    "# There's no need to understand it\n",
    "def check_loss():\n",
    "    M = np.array([[2, 4, 1], [1, -3, 1]])\n",
    "    M_approx = np.zeros((2, 3))\n",
    "    O = np.array([[1, 0, 0], [0, 1, 1]])\n",
    "    answer = 14 / 3\n",
    "    output = loss(M, M_approx, O)\n",
    "    assert(np.isclose(answer, output))\n",
    "    print(\"Function {} is working fine!\".format('loss()'))\n",
    "\n",
    "check_loss()"
   ]
  },
  {
   "cell_type": "markdown",
   "metadata": {
    "id": "qjtvCa_n3EOM"
   },
   "source": [
    "<hr style=\"border:3px solid blue\"> </hr>\n",
    "\n",
    "\n",
    "### Normalization of M\n",
    "\n",
    "As the initial prediction of $\\hat{\\mathsf{M}}$ is likely to have entries following a standard normal distribution and we use the squared error as the sole loss, it is good practice for us to normalize $\\mathsf{M}$ prior to the learning process. This means that we will preprocess matrix $\\mathsf{M}$ so the average over its observed entries is $0$ and the standard deviation is 1. Then the empirical distribution of its entries resembles a standard normal distribution.   \n",
    "\n",
    "Mathematically speaking, let us normalize $\\mathsf{M}$ such that,\n",
    "$$\\sum_{(i,j)\\in \\Omega} \\mathsf{M}_{ij} = 0 ~ \\text{ and } ~ \\frac{1}{|\\Omega|} \\sum_{(i,j)\\in \\Omega} \\mathsf{M}^2_{ij} = 1 ~ .$$\n",
    "\n",
    "We first need to calculate $\\mu$ and $\\sigma$, the mean and standard deviation respectively of the observed entries in $\\mathsf{M}$:\n",
    "$$\\mu = \\frac{1}{|\\Omega|}\\sum_{(i,j)\\in O}\\mathsf{M}_{ij} ~~ \\text{ and } ~~ \\sigma = \\sqrt{\\frac{1}{|\\Omega|} \\sum_{(i,j)\\in \\Omega} (\\mathsf{M}_{ij} - \\mu)^2}.$$\n",
    "\n",
    "Performing the transformation $\\mathsf{M} \\mapsto (\\mathsf{M} - \\mu) / \\sigma$ normalizes the matrix $\\mathsf{M}$.\n",
    "\n",
    "**Implementation note:** The function `get_normalized_matrix` should **not mutate** any of its parameters. You should **make a copy** of the relevant parameter(s) (i.e. using `np.copy`) and make changes to the copied variable(s)."
   ]
  },
  {
   "cell_type": "markdown",
   "metadata": {
    "id": "648Z_nkeCaG2"
   },
   "source": [
    "#### ACT2: Return the normalized version of M (8 pts)\n"
   ]
  },
  {
   "cell_type": "code",
   "execution_count": 2,
   "metadata": {
    "colab": {
     "base_uri": "https://localhost:8080/"
    },
    "executionInfo": {
     "elapsed": 169,
     "status": "ok",
     "timestamp": 1730496984245,
     "user": {
      "displayName": "Meenal Parakh",
      "userId": "16783211202843909075"
     },
     "user_tz": 240
    },
    "id": "xykP9YUf3EON",
    "outputId": "c3d9d404-0da7-4a70-cb34-4a2c39b96f29"
   },
   "outputs": [
    {
     "name": "stdout",
     "output_type": "stream",
     "text": [
      "Function get_normalized_matrix() is working fine!\n"
     ]
    }
   ],
   "source": [
    "# Given M, O, return the normalized version of M\n",
    "#\n",
    "# parameters\n",
    "# M:        m x n 2-D numpy array\n",
    "#           containing the observed entries (with arbitrary values in the unobserved entries)\n",
    "#\n",
    "# O:        m x n 2-D numpy array\n",
    "#           containing 0 if the entry is unobserved and 1 if the entry is observed in M.\n",
    "#           O tells you which entries in M were observed (corresponds to \\Omega in the equations above)\n",
    "#\n",
    "# output\n",
    "# M:        m x n 2-D numpy array\n",
    "#           normalized copy of the input matrix M\n",
    "#\n",
    "# NOTE: No loops please! Your implementation must be vectorized. You may not use a python loop\n",
    "def get_normalized_matrix(M, O):\n",
    "    ### ACT2: add your code here\n",
    "    Mn = np.copy(M) # copies M\n",
    "\n",
    "    # observed entries in M\n",
    "    M_obs = M[O == 1]\n",
    "\n",
    "    # calculate mean\n",
    "    mu = np.mean(M_obs)\n",
    "\n",
    "    # calculate stdev\n",
    "    sigma = (np.mean((M_obs - mu) ** 2)) ** 0.5\n",
    "\n",
    "    # normalize observed entries of matrix M \n",
    "    Mn[O == 1] = (M_obs - mu) / sigma\n",
    "\n",
    "    return Mn\n",
    "\n",
    "# The following functions checks if your implementation of get_normalized_matrix() is correct\n",
    "# There's no need to understand it\n",
    "def check_normalization():\n",
    "    M = np.random.rand(10, 3)\n",
    "    O = (np.random.rand(10, 3) > 0.5) + 0\n",
    "    Mn = get_normalized_matrix(M, O)\n",
    "    assert(abs(np.sum(M * O)) > 1e-6)\n",
    "    assert(abs(np.sum(Mn * O)) < 1e-6)\n",
    "    assert(abs(np.sum(Mn**2 * O) / np.sum(O) - 1) < 1e-6)\n",
    "    print(\"Function {} is working fine!\".format('get_normalized_matrix()'))\n",
    "\n",
    "check_normalization()"
   ]
  },
  {
   "cell_type": "markdown",
   "metadata": {
    "id": "GOJxyaxF3EOO"
   },
   "source": [
    "<hr style=\"border:3px solid blue\"> </hr>\n",
    "\n",
    "\n",
    "## Low Rank Matrix Approximation (LORMA)\n",
    "\n",
    "We are now ready to build a low rank approximation (abbreviated as *LORMA*) of the form,\n",
    "$$\n",
    "\\mathsf{M} \\approx \\hat{\\mathsf{M}} = \\mathsf{A} \\mathsf{B}  ~ .\n",
    "$$\n",
    "For brevity we refer to this model as *LORMA*. Note that once we established the approximating matrix $\\hat{\\mathsf{M}}$ we can reuse the same function **loss** from above."
   ]
  },
  {
   "cell_type": "markdown",
   "metadata": {
    "id": "9mP-RffhCjIf"
   },
   "source": [
    "#### ACT3: Implement LORMA's prediction (3 pts)"
   ]
  },
  {
   "cell_type": "code",
   "execution_count": 3,
   "metadata": {
    "executionInfo": {
     "elapsed": 169,
     "status": "ok",
     "timestamp": 1730496985250,
     "user": {
      "displayName": "Meenal Parakh",
      "userId": "16783211202843909075"
     },
     "user_tz": 240
    },
    "id": "ZsARTYV_3EOO"
   },
   "outputs": [],
   "source": [
    "# Given A, B, the low-rank matrices, calculate and return M_approx (M hat above)\n",
    "#\n",
    "# parameters\n",
    "# A:        m x k 2-D numpy array\n",
    "# B:        k x n 2-D numpy array\n",
    "#\n",
    "# output\n",
    "# M_approx: m x n 2-D numpy array\n",
    "#\n",
    "# NOTE: No loops please! Your implementation must be vectorized. You may not use a python loop\n",
    "# NOTE: Your implementation should be very simple, don't overthink it!\n",
    "def lorma(A, B):\n",
    "    ### ACT3: add your code here\n",
    "\n",
    "    # calculate M approx from A and B\n",
    "    M_approx = A @ B\n",
    "\n",
    "    return M_approx"
   ]
  },
  {
   "cell_type": "markdown",
   "metadata": {
    "id": "Do9TSqr73EOO"
   },
   "source": [
    "<hr style=\"border:3px solid blue\"> </hr>\n",
    "\n",
    "\n",
    "### Gradient of LORMA\n",
    "\n",
    "Next we need to implement the gradient of the LORMA model. The gradient should have the same structure as the parameters of our LORMA model, which are A (shape $m \\times k$) and B (shape $k \\times n$).\n",
    "\n",
    "To get the gradient to A, we apply chain rule for matrix differentiation as:\n",
    "$$\n",
    "\\frac{dL}{d \\mathsf{A}} = \\frac{d L}{d \\hat{\\mathsf{M}}} \\cdot \\frac{d \\hat{\\mathsf{M}}}{d \\mathsf{A}}\n",
    "$$\n",
    "where $\\frac{dL}{d \\hat{\\mathsf{M}}}$ returns a matrix of a shape of $m \\times n$ with its entries:\n",
    "$$\n",
    "\\left(\\frac{dL}{d \\hat{\\mathsf{M}}}\\right)_{ij} =\n",
    "                \\begin{cases}\n",
    "                \\frac{2}{|\\Omega|}(\\hat{\\mathsf{M}}_{ij} - \\mathsf{M}_{ij}) & \\text{if } (i,j)\\in \\Omega \\\\\n",
    "                0 & \\text{otherwise}\n",
    "                \\end{cases}\n",
    "$$\n",
    "and\n",
    "$$\n",
    "\\frac{d \\hat{\\mathsf{M}}}{d \\mathsf{A}} = \\mathsf{B}^\\top\n",
    "$$\n",
    "returns a matrix of shape $n \\times k$. Note \"$\\cdot$\" denotes the matrix multiplication.\n",
    "\n",
    "\n",
    "Likewise, to get the gradient with respect to B, we have\n",
    "$$\n",
    "\\frac{dL}{d \\mathsf{B}} = \\frac{d \\hat{\\mathsf{M}}}{d \\mathsf{B}}  \\cdot  \\frac{dL}{d \\hat{\\mathsf{M}}} ~~~~~~\\text{where}~~~~~  \\frac{d \\hat{\\mathsf{M}}}{d \\mathsf{B}} = \\mathsf{A}^\\top\n",
    "$$"
   ]
  },
  {
   "cell_type": "markdown",
   "metadata": {
    "id": "c4X_L-TrCr-3"
   },
   "source": [
    "#### ACT4: Implement LORMA gradient (10 pts)"
   ]
  },
  {
   "cell_type": "code",
   "execution_count": 4,
   "metadata": {
    "executionInfo": {
     "elapsed": 195,
     "status": "ok",
     "timestamp": 1730496986278,
     "user": {
      "displayName": "Meenal Parakh",
      "userId": "16783211202843909075"
     },
     "user_tz": 240
    },
    "id": "eOaQP_A93EOP"
   },
   "outputs": [],
   "source": [
    "# Given M, O, A, B return dL/dA, dL/dB.\n",
    "#\n",
    "# parameters\n",
    "# M:        m x n 2-D numpy array\n",
    "#           containing the observed entries (with arbitrary values in the unobserved entries)\n",
    "#\n",
    "# O:        m x n 2-D numpy array\n",
    "#           containing 0 if the entry is unobserved and 1 if the entry is observed in M.\n",
    "#           O tells you which entries in M were observed (corresponds to \\Omega in the equations above)\n",
    "#\n",
    "# A:        m x k 2-D numpy array\n",
    "# B:        k x n 2-D numpy array\n",
    "#\n",
    "# output\n",
    "# dL/dA:    m x k 2-D numpy array\n",
    "# dL/dB:    k x n 2-D numpy array\n",
    "#\n",
    "# NOTE: No loops please! Your implementation must be vectorized. You may not use a python loop\n",
    "def lorma_grad(M, O, A, B):\n",
    "    ### ACT4: add your code here\n",
    "    # calculate M_approx\n",
    "    M_approx = lorma(A, B)\n",
    "\n",
    "    # create matrix of all zeros with shape of M\n",
    "    dLdM = np.zeros_like(M)\n",
    "\n",
    "    # calculate dL/dM at observed copies of M\n",
    "    dLdM[O == 1] = (2 / np.sum(O)) * (M_approx[O == 1] - M[O == 1]) # leaves gradient of non-observed at 0\n",
    "\n",
    "    # calculate dL/dA = dl/dM * dM/dA = dL/dM * BT\n",
    "    dA = dLdM @ B.T\n",
    "\n",
    "    # calculate dL/dB = dM/dB * dl/dM = AT * dL/dM\n",
    "    dB = A.T @ dLdM\n",
    "\n",
    "    return dA, dB"
   ]
  },
  {
   "cell_type": "markdown",
   "metadata": {
    "id": "s0iDekOW3EOP"
   },
   "source": [
    "<hr style=\"border:3px solid blue\"> </hr>\n",
    "\n",
    "\n",
    "### Initialization of LORMA\n",
    "\n",
    "<p>\n",
    "\n",
    "<font size=3>\n",
    "    \n",
    "Before we start learning using GD, we need to setup an initial state of $\\mathsf{A}$ and $\\mathsf{B}$ for estimating $\\hat{\\mathsf{M}}$. Recall we normalized $\\mathsf{M}$ such that\n",
    "$$\\sum_{(i,j) \\in \\Omega} \\mathsf{M}_{ij} = 0 ~ \\text{ and } ~ \\frac{1}{|\\Omega|} \\sum_{(i,j)\\in \\Omega} \\mathsf{M}^2_{ij} = 1 ~ .$$\n",
    "We would like to make sure that the similar properties hold for $\\hat{\\mathsf{M}}$.\n",
    "<br><br>\n",
    "\n",
    "More specifically, we adopt random initialzation of the entries in $\\mathsf{A}$ and $\\mathsf{B}$ followed by a normalization process to make $\\hat{\\mathsf{M}}$ satisfy the following properties:  \n",
    "1. Zero mean, i.e., $\\sum_{(i,j)\\in \\Omega} \\hat{\\mathsf{M}}_{ij} = 0$:\n",
    "    \n",
    "  We can write $\\hat{\\mathsf{M}}_{ij} = \\mathbf{a}_i \\cdot \\mathbf{b}_j$ where $\\mathbf{a}_i$ and $\\mathbf{b}_j$ are the $i$-th row & $j$-th column of $\\mathsf{A}$ and $\\mathsf{B}$ respectively. Since $\\mathsf{A}$ and $\\mathsf{B}$ are completely random the probability that $\\mathbf{a}_i\\cdot \\mathbf{b}_j$ is small is pretty high so we can assume that $\\sum_{i,j} \\hat{\\mathsf{M}}_{ij} = \\sum_{i,j} \\mathbf{a}_i \\cdot \\mathbf{b}_j \\approx 0$.\n",
    "\n",
    "\n",
    "2. Less than or equal to unit variance, i.e., $\\frac{1}{mn} \\sum_{i,j} \\hat{\\mathsf{M}}_{ij}^2  \\leq 1$:    \n",
    "    \n",
    "  It suffices to have each $|\\hat{\\mathsf{M}}_{ij}|\\leq 1$ to satisfy the above condition.\n",
    "  We can guarantee this by normalizing each $\\mathbf{a}_i$ and $\\mathbf{b}_j$ so they have a unit norm:\n",
    "$$\n",
    "    \\mathbf{a}_i \\mapsto \\frac{\\mathbf{a}_i}{\\|\\mathbf{a}_i\\|} ~ \\text{ and } ~\n",
    "    \\mathbf{b}_j \\mapsto \\frac{\\mathbf{b}_j}{\\|\\mathbf{b}_j\\|} ~ .\n",
    "$$\n",
    "Once the norm of all vectors $\\mathbf{a}_1,\\ldots,\\mathbf{a}_k,\\mathbf{b}_1,\\ldots,\\mathbf{b}_k$ is $1$ the inner products $\\mathbf{a}_i\\cdot \\mathbf{b}_j$ are in $[-1,1]$, which tells us $| \\hat{\\mathsf{M}}_{ij}| \\leq 1$. This property is known as Cauchy's inequality which is typically presented as,\n",
    "$| \\mathbf{a} \\cdot \\mathbf{b} | \\leq \\| \\mathbf{a} \\| \\| \\mathbf{b} \\|$.\n",
    "\n",
    "</font>\n",
    "\n",
    "\n",
    "**NOTES**\n",
    "\n",
    "*   The random values should be in a normal distribution with mean 0 and variance 1\n",
    "*   For randomizing and creating arrays A and B, you can use any function under the `np.random` library that produces the required unit variance gaussian.\n",
    "\n",
    "\n",
    "\n"
   ]
  },
  {
   "cell_type": "markdown",
   "metadata": {
    "id": "JMFivptcC0NO"
   },
   "source": [
    "#### ACT5: Implement LORMA initialization (8 pts)"
   ]
  },
  {
   "cell_type": "code",
   "execution_count": 5,
   "metadata": {
    "colab": {
     "base_uri": "https://localhost:8080/"
    },
    "executionInfo": {
     "elapsed": 158,
     "status": "ok",
     "timestamp": 1730496987216,
     "user": {
      "displayName": "Meenal Parakh",
      "userId": "16783211202843909075"
     },
     "user_tz": 240
    },
    "id": "6GB6Kidl3EOQ",
    "outputId": "463db0d4-64f0-45eb-8d56-e987dba88c7e"
   },
   "outputs": [
    {
     "name": "stdout",
     "output_type": "stream",
     "text": [
      "Function lorma_init() is working fine!\n"
     ]
    }
   ],
   "source": [
    "# Given m, n, k, initialize and normalize A, B as per the guideline above\n",
    "#\n",
    "# parameters\n",
    "# m, n, k:  shapes for A, B\n",
    "#\n",
    "# output\n",
    "# A:        m x k 2-D numpy array\n",
    "# B:        k x n 2-D numpy array\n",
    "#\n",
    "# NOTE: No loops please! Your implementation must be vectorized. You may not use a python loop\n",
    "def lorma_init(m, n, k):\n",
    "    # ACT5a: intialize A, B using a zero-mean unit-variance Gaussian (ie a normal distribution with mean 0 and variance 1) per entry\n",
    "    A = np.random.normal(0, 1, (m, k))\n",
    "    B = np.random.normal(0, 1, (k, n))\n",
    "    # ACT5b: normalize the rows of A and columns of B\n",
    "    A = A / np.linalg.norm(A, axis = 1, keepdims = True)\n",
    "    B = B / np.linalg.norm(B, axis = 0, keepdims = True)\n",
    "    return A, B\n",
    "\n",
    "# The following code is to check your implementation\n",
    "# There's no need to understand it\n",
    "def check_lorma_init():\n",
    "    A, B = lorma_init(10, 7, 3)\n",
    "    assert(np.linalg.norm(np.diag(A @ A.T) - np.ones(10), 1) < 1e-6)\n",
    "    assert(np.linalg.norm(np.diag(B.T @ B) - np.ones(7), 1) < 1e-6)\n",
    "    print(\"Function {} is working fine!\".format('lorma_init()'))\n",
    "    return\n",
    "\n",
    "check_lorma_init()"
   ]
  },
  {
   "cell_type": "markdown",
   "metadata": {},
   "source": [
    "<hr style=\"border:3px solid blue\"> </hr>\n",
    "\n",
    "### Finally, it is time to use gradient descent (GD) to learn a LORMA model\n",
    "\n",
    "    \n",
    "Details for implementation:\n",
    "1. Unpack parameters in params (code provided)\n",
    "2. Call `get_normalized_matrix()` to get the normalized version of M.\n",
    "3. Initialize A, B by calling `lorma_init()`\n",
    "4. Create a list `losses` which will record the approximation error at every 10 epochs. Store the initial loss as `losses[0]`\n",
    "5. Within the main loop\n",
    "- Call `lorma_grad()` to get new gradients `dA` for `A` and `dB` for `B`\n",
    "- Perform gradient step with the appropriate learning rate from the provided **list** `etas`\n",
    "- Every 10 epochs, do the following\n",
    "    - Call the `loss()` function to calculate and append the current loss to `losses`\n",
    "    - Print the most recent current loss. Your print statements should be of the following format, where the loss is rounded to 4 decimal places (recall that `arr[-1]` returns the last element in a list and `x.round(4)` rounds a number to 4 decimal places):\n",
    "      ```\n",
    "      Epoch 0: ____\n",
    "      Epoch 10: ____\n",
    "      Epoch 20: ____\n",
    "      ...\n",
    "      ```"
   ]
  },
  {
   "cell_type": "markdown",
   "metadata": {
    "id": "Ra4BzlENC7Zl"
   },
   "source": [
    "#### ACT6: Implement GD for LORMA model (13 pts)"
   ]
  },
  {
   "cell_type": "code",
   "execution_count": 6,
   "metadata": {
    "executionInfo": {
     "elapsed": 177,
     "status": "ok",
     "timestamp": 1730496988800,
     "user": {
      "displayName": "Meenal Parakh",
      "userId": "16783211202843909075"
     },
     "user_tz": 240
    },
    "id": "xUj1YKCB3EOR"
   },
   "outputs": [],
   "source": [
    "# Given M, O, params, run gradient descent to compute the low-dimensional\n",
    "# approximation A, B and losses, the list of approximation errors\n",
    "#\n",
    "# parameters\n",
    "# M:        m x n 2-D numpy array\n",
    "#           containing the observed entries (with arbitrary values in the unobserved entries)\n",
    "#\n",
    "# O:        m x n 2-D numpy array\n",
    "#           containing 0 if the entry is unobserved and 1 if the entry is observed in M.\n",
    "#           O tells you which entries in M were observed (corresponds to \\Omega in the equations above)\n",
    "#\n",
    "# params:   tuple of 3 parameters (k, num_epochs, etas)\n",
    "#.          k is the rank of your LORMA model\n",
    "#           num_epochs is the number of epochs to run gradient descent\n",
    "#           etas is a list of floats, with the learning rate for each epoch\n",
    "#           len(etas) = num_epochs\n",
    "#\n",
    "# output\n",
    "# A:        m x k 2-D numpy array\n",
    "# B:        k x n 2-D numpy array\n",
    "# losses:   list of approximation errors evaluated at every 10 epochs\n",
    "def lorma_learn(M, O, params):\n",
    "    k, num_epochs, etas = params\n",
    "    ### ACT6: add your code here\n",
    "    m, n = M.shape\n",
    "\n",
    "    # get normalized matrix \n",
    "    Mn = get_normalized_matrix(M, O)\n",
    "\n",
    "    # initialize A, B and list to store losses\n",
    "    A, B = lorma_init(m, n, k)\n",
    "    losses = []\n",
    "\n",
    "    # store and print initial loss\n",
    "    M_approx = lorma(A, B) \n",
    "    losses.append(loss(Mn, M_approx, O))    \n",
    "    print(\"Epoch 0:\", losses[-1].round(4))\n",
    "\n",
    "    for e in range(num_epochs):\n",
    "        # get gradients \n",
    "        dA, dB = lorma_grad(Mn, O, A, B)\n",
    "\n",
    "        # perform A, B update with learning rate in etas\n",
    "        A = A - etas[e] * dA\n",
    "        B = B - etas[e] * dB\n",
    "\n",
    "        # calculate and store loss at every 10th epoch\n",
    "        if (e + 1) % 10 == 0: \n",
    "            current_loss = loss(Mn, lorma(A, B), O)\n",
    "            losses.append(current_loss)\n",
    "\n",
    "            # print loss\n",
    "            print(\"Epoch\", e+1, \":\", losses[-1].round(4))\n",
    "        \n",
    "    return A, B, losses"
   ]
  },
  {
   "cell_type": "code",
   "execution_count": 7,
   "metadata": {
    "colab": {
     "base_uri": "https://localhost:8080/",
     "height": 609
    },
    "executionInfo": {
     "elapsed": 1352,
     "status": "ok",
     "timestamp": 1730496990701,
     "user": {
      "displayName": "Meenal Parakh",
      "userId": "16783211202843909075"
     },
     "user_tz": 240
    },
    "id": "xxzhMGRT3EOR",
    "outputId": "ade371d8-2688-4417-eeb8-5705e0f64837"
   },
   "outputs": [
    {
     "name": "stdout",
     "output_type": "stream",
     "text": [
      "Epoch 0: 1.1611\n",
      "Epoch 10 : 1.0062\n",
      "Epoch 20 : 0.8719\n",
      "Epoch 30 : 0.7091\n",
      "Epoch 40 : 0.5176\n",
      "Epoch 50 : 0.3393\n",
      "Epoch 60 : 0.2098\n",
      "Epoch 70 : 0.1283\n",
      "Epoch 80 : 0.0801\n",
      "Epoch 90 : 0.0522\n",
      "Epoch 100 : 0.0362\n"
     ]
    },
    {
     "data": {
      "image/png": "[encoded data removed]",
      "text/plain": [
       "<Figure size 640x480 with 1 Axes>"
      ]
     },
     "metadata": {},
     "output_type": "display_data"
    }
   ],
   "source": [
    "m, n, k = 100, 40, 5\n",
    "rand_seed = 10\n",
    "np.random.seed(rand_seed)\n",
    "\n",
    "def check_lorma_learn():\n",
    "    from numpy.random import binomial, randn, uniform\n",
    "    mockA, mockB = uniform(1, 2, (m, k)), uniform(-2, -1, (k, n))\n",
    "    M = mockA @ mockB + 0.01 * np.random.randn(m, n)\n",
    "    O = binomial(1, 0.5, size=M.shape)\n",
    "    num_epochs = 100\n",
    "    etas = 2.0 * np.ones(num_epochs)\n",
    "    params = k, num_epochs, etas\n",
    "    A, B, losses = lorma_learn(M, O, params)\n",
    "    plt.plot(losses, '-o')\n",
    "    return M, A, B\n",
    "\n",
    "M, A, B = check_lorma_learn()"
   ]
  },
  {
   "cell_type": "markdown",
   "metadata": {
    "id": "6izUxmor3EOR"
   },
   "source": [
    "### Visualizing the data matrix and it low-rank approximation\n",
    "\n",
    "For reference let us also visualize a random matrix from the same distribution used for initialization."
   ]
  },
  {
   "cell_type": "code",
   "execution_count": 8,
   "metadata": {
    "colab": {
     "base_uri": "https://localhost:8080/",
     "height": 629
    },
    "executionInfo": {
     "elapsed": 1125,
     "status": "ok",
     "timestamp": 1730496994268,
     "user": {
      "displayName": "Meenal Parakh",
      "userId": "16783211202843909075"
     },
     "user_tz": 240
    },
    "id": "eZRAlJSt3EOS",
    "outputId": "73347842-6fc4-4710-acd8-3822bdd942bb"
   },
   "outputs": [
    {
     "data": {
      "image/png": "[encoded data removed]",
      "text/plain": [
       "<Figure size 1000x6000 with 3 Axes>"
      ]
     },
     "metadata": {},
     "output_type": "display_data"
    }
   ],
   "source": [
    "def show_mat(X, str, ind):\n",
    "    plt.subplot(1,3,ind)\n",
    "    plt.imshow(X, cmap='hot')\n",
    "    plt.axis('off')\n",
    "    plt.title(str)\n",
    "\n",
    "Ar, Br = lorma_init(m, n, k)\n",
    "fig = plt.figure(figsize=(10,60))\n",
    "show_mat(M, 'Original Matrix', 1)\n",
    "show_mat(lorma(Ar, Br), 'Initial Approximation', 2)\n",
    "show_mat(lorma(A, B), 'Low Rank Approximation', 3)"
   ]
  },
  {
   "cell_type": "markdown",
   "metadata": {
    "id": "gF3gm5_v3EOS"
   },
   "source": [
    "<hr style=\"border:3px solid blue\"> </hr>\n",
    "\n",
    "# **Part 2: Movie Recommendation**\n",
    "\n",
    "You are given data about users and their movie preferences, and you're tasked with recommending movies that the users have not seen and would like. In lecture, you learned about the [Netflix Prize](https://en.wikipedia.org/wiki/Netflix_Prize), which awarded 1 million dollars to a team that  significantly improved their in-house movie recommendation system.\n",
    "\n",
    "An interesting tidbit: The team that finished second in 2008 was comprised of three Princeton undergraduates! [[article]](https://www.cs.princeton.edu/news/princeton-undergraduates-challenge-1000000-netflix-prize)\n",
    "\n",
    "### MovieLens dataset and Pandas library    \n",
    "We will be using a smaller dataset called [MovieLens](https://grouplens.org/datasets/movielens/) and will be using the [pandas](https://pandas.pydata.org/) library (specifically [pandas.DataFrame](https://pandas.pydata.org/docs/reference/api/pandas.DataFrame.html)) to work with the dataset.\n",
    "\n",
    "Because this is the first time we're using `pandas` in the course, we'll be breaking down the steps in more detail than usual and including a few conceptual questions along the way.\n",
    "\n",
    "For answers to questions, **answer concisely** (complete sentences are not necessary)."
   ]
  },
  {
   "cell_type": "markdown",
   "metadata": {},
   "source": [
    "## Act 7: Prepare the dataset\n",
    "To prepare the dataset to run LORMA on it, you'll be using the following pandas functions:\n",
    "- [pd.read_csv](https://pandas.pydata.org/docs/reference/api/pandas.read_csv.html)\n",
    "- [pd.DataFrame.pivot](https://pandas.pydata.org/docs/reference/api/pandas.DataFrame.pivot.html)"
   ]
  },
  {
   "cell_type": "markdown",
   "metadata": {
    "id": "dLZawT2hmbxV"
   },
   "source": [
    "### Act 7a: Download the MovieLens dataset (3 pts)\n",
    "\n",
    "Use the [pd.read_csv](https://pandas.pydata.org/docs/reference/api/pandas.read_csv.html) to read the MovieLens dataset as a pandas DataFrame. Specifically, we'll be loading data from the `ratings.csv` file provided as part of the assignment files.\n",
    "\n",
    "Credits: [MovieLens GitHub](https://github.com/khanhnamle1994/movielens/blob/master/ratings.csv)"
   ]
  },
  {
   "cell_type": "code",
   "execution_count": 1,
   "metadata": {
    "colab": {
     "base_uri": "https://localhost:8080/",
     "height": 206
    },
    "executionInfo": {
     "elapsed": 5103,
     "status": "ok",
     "timestamp": 1730496999762,
     "user": {
      "displayName": "Meenal Parakh",
      "userId": "16783211202843909075"
     },
     "user_tz": 240
    },
    "id": "RfDXPJ_33EOS",
    "outputId": "6097cde5-e2d4-4bd0-ec97-d0959da676bf"
   },
   "outputs": [
    {
     "data": {
      "text/html": [
       "<div>\n",
       "<style scoped>\n",
       "    .dataframe tbody tr th:only-of-type {\n",
       "        vertical-align: middle;\n",
       "    }\n",
       "\n",
       "    .dataframe tbody tr th {\n",
       "        vertical-align: top;\n",
       "    }\n",
       "\n",
       "    .dataframe thead th {\n",
       "        text-align: right;\n",
       "    }\n",
       "</style>\n",
       "<table border=\"1\" class=\"dataframe\">\n",
       "  <thead>\n",
       "    <tr style=\"text-align: right;\">\n",
       "      <th></th>\n",
       "      <th>userId</th>\n",
       "      <th>movieId</th>\n",
       "      <th>rating</th>\n",
       "      <th>timestamp</th>\n",
       "    </tr>\n",
       "  </thead>\n",
       "  <tbody>\n",
       "    <tr>\n",
       "      <th>0</th>\n",
       "      <td>0</td>\n",
       "      <td>0</td>\n",
       "      <td>4.0</td>\n",
       "      <td>964982703</td>\n",
       "    </tr>\n",
       "    <tr>\n",
       "      <th>1</th>\n",
       "      <td>0</td>\n",
       "      <td>2</td>\n",
       "      <td>4.0</td>\n",
       "      <td>964981247</td>\n",
       "    </tr>\n",
       "    <tr>\n",
       "      <th>2</th>\n",
       "      <td>0</td>\n",
       "      <td>5</td>\n",
       "      <td>4.0</td>\n",
       "      <td>964982224</td>\n",
       "    </tr>\n",
       "    <tr>\n",
       "      <th>3</th>\n",
       "      <td>0</td>\n",
       "      <td>46</td>\n",
       "      <td>5.0</td>\n",
       "      <td>964983815</td>\n",
       "    </tr>\n",
       "    <tr>\n",
       "      <th>4</th>\n",
       "      <td>0</td>\n",
       "      <td>49</td>\n",
       "      <td>5.0</td>\n",
       "      <td>964982931</td>\n",
       "    </tr>\n",
       "  </tbody>\n",
       "</table>\n",
       "</div>"
      ],
      "text/plain": [
       "   userId  movieId  rating  timestamp\n",
       "0       0        0     4.0  964982703\n",
       "1       0        2     4.0  964981247\n",
       "2       0        5     4.0  964982224\n",
       "3       0       46     5.0  964983815\n",
       "4       0       49     5.0  964982931"
      ]
     },
     "execution_count": 1,
     "metadata": {},
     "output_type": "execute_result"
    }
   ],
   "source": [
    "import pandas as pd\n",
    "\n",
    "# Act 7a: Load the MovieLens dataset into a pandas dataframe (hint: use pd.read_csv) and display the top 5 rows of the dataset\n",
    "ratings_path = 'ratings.csv'\n",
    "ratings_df = pd.read_csv(ratings_path) # loads the dataset as a Pandas dataframe\n",
    "ratings_df.head() # displays first 5 rows of dataframe"
   ]
  },
  {
   "cell_type": "markdown",
   "metadata": {},
   "source": [
    "## Act 7b: [`pd.DataFrame`](https://pandas.pydata.org/docs/reference/api/pandas.DataFrame.html) Questions (8 pts)\n",
    "\n",
    "**Q1: How many rows and columns are in the dataframe?**\n",
    "\n",
    "**Q1 Answer:**\n",
    "\n",
    "**TODO: Your answer here!**  100836 rows × 4 columns\n",
    "\n",
    "**Q2: What are the columns in the dataframe (state each column name and your best guess as to what it stores)?**\n",
    "\n",
    "**Q2 Answer:** \n",
    "\n",
    "**TODO: Your answer here!** \n",
    "userId - numeric id designating individual users\n",
    "movieId - numeric id designating individual movies\n",
    "rating - rating out of 5 given to each film \n",
    "timestamp - timestamp (in a.u.) of when each rating was given\n",
    "\n",
    "**Q3: Explain the data stored in the first row (row index 0).**\n",
    "\n",
    "**Q3 Answer:**\n",
    "\n",
    "**TODO: Your answer here!** User 0 gave the movie with ID 0\ta 4.0 at time 964982703.\n"
   ]
  },
  {
   "cell_type": "markdown",
   "metadata": {
    "id": "4L6OPwHmtrr7"
   },
   "source": [
    "### Act 7c: Convert DataFrame to matrix (4 pts)\n",
    " Convert the dataframe into a matrix where the rows (i.e. index) are users, the columns are movies, and the values are ratings.\n",
    "\n",
    " Hint: Use the [pd.DataFrame.pivot](https://pandas.pydata.org/docs/reference/api/pandas.DataFrame.pivot.html) function on the dataframe (i.e. `ratings_df.pivot(...)`)"
   ]
  },
  {
   "cell_type": "code",
   "execution_count": 10,
   "metadata": {
    "colab": {
     "base_uri": "https://localhost:8080/",
     "height": 298
    },
    "executionInfo": {
     "elapsed": 5,
     "status": "ok",
     "timestamp": 1730496999763,
     "user": {
      "displayName": "Meenal Parakh",
      "userId": "16783211202843909075"
     },
     "user_tz": 240
    },
    "id": "dZ7Wtq-ctpIs",
    "outputId": "eecad7ac-5dbd-463d-cd76-22a8b85ac321"
   },
   "outputs": [
    {
     "data": {
      "text/html": [
       "<div>\n",
       "<style scoped>\n",
       "    .dataframe tbody tr th:only-of-type {\n",
       "        vertical-align: middle;\n",
       "    }\n",
       "\n",
       "    .dataframe tbody tr th {\n",
       "        vertical-align: top;\n",
       "    }\n",
       "\n",
       "    .dataframe thead th {\n",
       "        text-align: right;\n",
       "    }\n",
       "</style>\n",
       "<table border=\"1\" class=\"dataframe\">\n",
       "  <thead>\n",
       "    <tr style=\"text-align: right;\">\n",
       "      <th>movieId</th>\n",
       "      <th>0</th>\n",
       "      <th>1</th>\n",
       "      <th>2</th>\n",
       "      <th>3</th>\n",
       "      <th>4</th>\n",
       "      <th>5</th>\n",
       "      <th>6</th>\n",
       "      <th>7</th>\n",
       "      <th>8</th>\n",
       "      <th>9</th>\n",
       "      <th>...</th>\n",
       "      <th>193564</th>\n",
       "      <th>193566</th>\n",
       "      <th>193570</th>\n",
       "      <th>193572</th>\n",
       "      <th>193578</th>\n",
       "      <th>193580</th>\n",
       "      <th>193582</th>\n",
       "      <th>193584</th>\n",
       "      <th>193586</th>\n",
       "      <th>193608</th>\n",
       "    </tr>\n",
       "    <tr>\n",
       "      <th>userId</th>\n",
       "      <th></th>\n",
       "      <th></th>\n",
       "      <th></th>\n",
       "      <th></th>\n",
       "      <th></th>\n",
       "      <th></th>\n",
       "      <th></th>\n",
       "      <th></th>\n",
       "      <th></th>\n",
       "      <th></th>\n",
       "      <th></th>\n",
       "      <th></th>\n",
       "      <th></th>\n",
       "      <th></th>\n",
       "      <th></th>\n",
       "      <th></th>\n",
       "      <th></th>\n",
       "      <th></th>\n",
       "      <th></th>\n",
       "      <th></th>\n",
       "      <th></th>\n",
       "    </tr>\n",
       "  </thead>\n",
       "  <tbody>\n",
       "    <tr>\n",
       "      <th>0</th>\n",
       "      <td>4.0</td>\n",
       "      <td>NaN</td>\n",
       "      <td>4.0</td>\n",
       "      <td>NaN</td>\n",
       "      <td>NaN</td>\n",
       "      <td>4.0</td>\n",
       "      <td>NaN</td>\n",
       "      <td>NaN</td>\n",
       "      <td>NaN</td>\n",
       "      <td>NaN</td>\n",
       "      <td>...</td>\n",
       "      <td>NaN</td>\n",
       "      <td>NaN</td>\n",
       "      <td>NaN</td>\n",
       "      <td>NaN</td>\n",
       "      <td>NaN</td>\n",
       "      <td>NaN</td>\n",
       "      <td>NaN</td>\n",
       "      <td>NaN</td>\n",
       "      <td>NaN</td>\n",
       "      <td>NaN</td>\n",
       "    </tr>\n",
       "    <tr>\n",
       "      <th>1</th>\n",
       "      <td>NaN</td>\n",
       "      <td>NaN</td>\n",
       "      <td>NaN</td>\n",
       "      <td>NaN</td>\n",
       "      <td>NaN</td>\n",
       "      <td>NaN</td>\n",
       "      <td>NaN</td>\n",
       "      <td>NaN</td>\n",
       "      <td>NaN</td>\n",
       "      <td>NaN</td>\n",
       "      <td>...</td>\n",
       "      <td>NaN</td>\n",
       "      <td>NaN</td>\n",
       "      <td>NaN</td>\n",
       "      <td>NaN</td>\n",
       "      <td>NaN</td>\n",
       "      <td>NaN</td>\n",
       "      <td>NaN</td>\n",
       "      <td>NaN</td>\n",
       "      <td>NaN</td>\n",
       "      <td>NaN</td>\n",
       "    </tr>\n",
       "    <tr>\n",
       "      <th>2</th>\n",
       "      <td>NaN</td>\n",
       "      <td>NaN</td>\n",
       "      <td>NaN</td>\n",
       "      <td>NaN</td>\n",
       "      <td>NaN</td>\n",
       "      <td>NaN</td>\n",
       "      <td>NaN</td>\n",
       "      <td>NaN</td>\n",
       "      <td>NaN</td>\n",
       "      <td>NaN</td>\n",
       "      <td>...</td>\n",
       "      <td>NaN</td>\n",
       "      <td>NaN</td>\n",
       "      <td>NaN</td>\n",
       "      <td>NaN</td>\n",
       "      <td>NaN</td>\n",
       "      <td>NaN</td>\n",
       "      <td>NaN</td>\n",
       "      <td>NaN</td>\n",
       "      <td>NaN</td>\n",
       "      <td>NaN</td>\n",
       "    </tr>\n",
       "    <tr>\n",
       "      <th>3</th>\n",
       "      <td>NaN</td>\n",
       "      <td>NaN</td>\n",
       "      <td>NaN</td>\n",
       "      <td>NaN</td>\n",
       "      <td>NaN</td>\n",
       "      <td>NaN</td>\n",
       "      <td>NaN</td>\n",
       "      <td>NaN</td>\n",
       "      <td>NaN</td>\n",
       "      <td>NaN</td>\n",
       "      <td>...</td>\n",
       "      <td>NaN</td>\n",
       "      <td>NaN</td>\n",
       "      <td>NaN</td>\n",
       "      <td>NaN</td>\n",
       "      <td>NaN</td>\n",
       "      <td>NaN</td>\n",
       "      <td>NaN</td>\n",
       "      <td>NaN</td>\n",
       "      <td>NaN</td>\n",
       "      <td>NaN</td>\n",
       "    </tr>\n",
       "    <tr>\n",
       "      <th>4</th>\n",
       "      <td>4.0</td>\n",
       "      <td>NaN</td>\n",
       "      <td>NaN</td>\n",
       "      <td>NaN</td>\n",
       "      <td>NaN</td>\n",
       "      <td>NaN</td>\n",
       "      <td>NaN</td>\n",
       "      <td>NaN</td>\n",
       "      <td>NaN</td>\n",
       "      <td>NaN</td>\n",
       "      <td>...</td>\n",
       "      <td>NaN</td>\n",
       "      <td>NaN</td>\n",
       "      <td>NaN</td>\n",
       "      <td>NaN</td>\n",
       "      <td>NaN</td>\n",
       "      <td>NaN</td>\n",
       "      <td>NaN</td>\n",
       "      <td>NaN</td>\n",
       "      <td>NaN</td>\n",
       "      <td>NaN</td>\n",
       "    </tr>\n",
       "  </tbody>\n",
       "</table>\n",
       "<p>5 rows × 9724 columns</p>\n",
       "</div>"
      ],
      "text/plain": [
       "movieId  0       1       2       3       4       5       6       7       \\\n",
       "userId                                                                    \n",
       "0           4.0     NaN     4.0     NaN     NaN     4.0     NaN     NaN   \n",
       "1           NaN     NaN     NaN     NaN     NaN     NaN     NaN     NaN   \n",
       "2           NaN     NaN     NaN     NaN     NaN     NaN     NaN     NaN   \n",
       "3           NaN     NaN     NaN     NaN     NaN     NaN     NaN     NaN   \n",
       "4           4.0     NaN     NaN     NaN     NaN     NaN     NaN     NaN   \n",
       "\n",
       "movieId  8       9       ...  193564  193566  193570  193572  193578  193580  \\\n",
       "userId                   ...                                                   \n",
       "0           NaN     NaN  ...     NaN     NaN     NaN     NaN     NaN     NaN   \n",
       "1           NaN     NaN  ...     NaN     NaN     NaN     NaN     NaN     NaN   \n",
       "2           NaN     NaN  ...     NaN     NaN     NaN     NaN     NaN     NaN   \n",
       "3           NaN     NaN  ...     NaN     NaN     NaN     NaN     NaN     NaN   \n",
       "4           NaN     NaN  ...     NaN     NaN     NaN     NaN     NaN     NaN   \n",
       "\n",
       "movieId  193582  193584  193586  193608  \n",
       "userId                                   \n",
       "0           NaN     NaN     NaN     NaN  \n",
       "1           NaN     NaN     NaN     NaN  \n",
       "2           NaN     NaN     NaN     NaN  \n",
       "3           NaN     NaN     NaN     NaN  \n",
       "4           NaN     NaN     NaN     NaN  \n",
       "\n",
       "[5 rows x 9724 columns]"
      ]
     },
     "execution_count": 10,
     "metadata": {},
     "output_type": "execute_result"
    }
   ],
   "source": [
    "ratings_matrix_df = ratings_df.pivot(columns='movieId', index='userId', values='rating') # converts dataframe to matrix form\n",
    "ratings_matrix_df.head() ### your code here # displays first 5 rows of matrix_df"
   ]
  },
  {
   "cell_type": "markdown",
   "metadata": {
    "id": "OoD-PLGUvBR5"
   },
   "source": [
    "### Act 7d: Data Preprocessing (3 pts)\n",
    "\n",
    "**Why are there `NaN` values in the `ratings_matrix_df` dataframe?**\n",
    "\n",
    "**Answer:** If a user $i$ does not rate a movie $j$, then the corresponding entry will be NaN.\n",
    "\n",
    "It's important to preprocess the data to get it into the right format. Let's replace the `NaN` values with a default value of `-1`. (Hint: Use the [`pandas.DataFrame.fillna`](https://pandas.pydata.org/docs/reference/api/pandas.DataFrame.fillna.html) function).\n",
    "\n",
    "Finally, let's convert the pandas DataFrame object into a 2D numpy array (i.e. a matrix). (Hint: Use the [`pandas.DataFrame.to_numpy`](https://pandas.pydata.org/docs/reference/api/pandas.DataFrame.to_numpy.html) function).\n",
    "\n",
    "Tip: You can chain the above two commands together with Python dot notation (i.e. `<python object>.<function a>.<function b>`)"
   ]
  },
  {
   "cell_type": "code",
   "execution_count": 11,
   "metadata": {
    "colab": {
     "base_uri": "https://localhost:8080/"
    },
    "executionInfo": {
     "elapsed": 6,
     "status": "ok",
     "timestamp": 1730496999925,
     "user": {
      "displayName": "Meenal Parakh",
      "userId": "16783211202843909075"
     },
     "user_tz": 240
    },
    "id": "dKS9vApCvBlM",
    "outputId": "28732650-5be6-4b78-c80c-268890b19f2d"
   },
   "outputs": [
    {
     "data": {
      "text/plain": [
       "array([[ 4. , -1. ,  4. , ..., -1. , -1. , -1. ],\n",
       "       [-1. , -1. , -1. , ..., -1. , -1. , -1. ],\n",
       "       [-1. , -1. , -1. , ..., -1. , -1. , -1. ],\n",
       "       ...,\n",
       "       [ 2.5,  2. ,  2. , ..., -1. , -1. , -1. ],\n",
       "       [ 3. , -1. , -1. , ..., -1. , -1. , -1. ],\n",
       "       [ 5. , -1. , -1. , ..., -1. , -1. , -1. ]], shape=(610, 9724))"
      ]
     },
     "execution_count": 11,
     "metadata": {},
     "output_type": "execute_result"
    }
   ],
   "source": [
    "missing_value = -1\n",
    "ratings_matrix_processed = ratings_matrix_df.fillna(-1).to_numpy() # imputes NaN with -1\n",
    "ratings_matrix_processed # displays the full numpy as output (Note: intermediate values will be truncated with ... by default)"
   ]
  },
  {
   "cell_type": "code",
   "execution_count": 12,
   "metadata": {
    "colab": {
     "base_uri": "https://localhost:8080/"
    },
    "executionInfo": {
     "elapsed": 5,
     "status": "ok",
     "timestamp": 1730496999925,
     "user": {
      "displayName": "Meenal Parakh",
      "userId": "16783211202843909075"
     },
     "user_tz": 240
    },
    "id": "puBIfvD8vDNp",
    "outputId": "276b8dab-7098-4d77-d4bd-83310612289d"
   },
   "outputs": [
    {
     "name": "stdout",
     "output_type": "stream",
     "text": [
      "Matrix passes basic data processing checks.\n"
     ]
    }
   ],
   "source": [
    "# check data processing step\n",
    "def check_data_processing(M):\n",
    "  assert(np.sum(M == -1) == 5830804)\n",
    "  assert(M.shape[0] == 610)\n",
    "  assert(M.shape[1] == 9724)\n",
    "  assert(M.dtype == 'float64')\n",
    "  assert(M[0][0] == 4)\n",
    "  assert(M[0][1] == -1)\n",
    "  print(\"Matrix passes basic data processing checks.\")\n",
    "\n",
    "check_data_processing(ratings_matrix_processed)"
   ]
  },
  {
   "cell_type": "markdown",
   "metadata": {
    "id": "iO1yeIBZOTzg"
   },
   "source": [
    "In the next cell, we provide the last data processing step.\n",
    "\n",
    "We create an observed matrix called `rankings_observed` that stores a 1 where we have user ratings and a 0 otherwise.\n"
   ]
  },
  {
   "cell_type": "code",
   "execution_count": 13,
   "metadata": {
    "executionInfo": {
     "elapsed": 3,
     "status": "ok",
     "timestamp": 1730496999925,
     "user": {
      "displayName": "Meenal Parakh",
      "userId": "16783211202843909075"
     },
     "user_tz": 240
    },
    "id": "RVDlcltAOVRV"
   },
   "outputs": [],
   "source": [
    "# Create the observed matrix with 1s where we have user ratings for a given movie and 0s otherwise\n",
    "rankings_observed = np.ones_like(ratings_matrix_processed) # create matrix of 1s with same shape as ratings_matrix_processed\n",
    "rankings_observed[ratings_matrix_processed == -1] = 0 # set unobserved values to 0"
   ]
  },
  {
   "cell_type": "markdown",
   "metadata": {
    "id": "0XVpumGoOcrq"
   },
   "source": [
    "<hr style=\"border:3px solid blue\"> </hr>\n",
    "\n",
    "\n",
    "## Act 8: Run LORMA on the MovieLens dataset (10 pts)\n",
    "\n",
    "Implement the following in the next code block:\n",
    "1. Save a normalized version of the MovieLens data using `get_normalized_matrix`.\n",
    "2. Define the parameters for LORMA (use rank = 40, epochs = 2000, eta = 10.0 for all epochs)\n",
    "3. Run LORMA using the `lorma_learn` function\n",
    "4. Plot losses to make sure they are decreasing.\n",
    "\n",
    "**Hint:** Look at the function definition for `check_lorma_learn` for sample code on how to do steps 2-3.\n",
    "\n",
    "**Note:** Running LORMA for 2000 epochs on the MovieLens dataset will take ~10 minutes in Colab."
   ]
  },
  {
   "cell_type": "code",
   "execution_count": 14,
   "metadata": {
    "colab": {
     "base_uri": "https://localhost:8080/",
     "height": 1000
    },
    "executionInfo": {
     "elapsed": 373636,
     "status": "ok",
     "timestamp": 1730497373559,
     "user": {
      "displayName": "Meenal Parakh",
      "userId": "16783211202843909075"
     },
     "user_tz": 240
    },
    "id": "2HB_N-VaOc-d",
    "outputId": "52b06d81-d635-44c2-9c15-afd6aa6563be"
   },
   "outputs": [
    {
     "name": "stdout",
     "output_type": "stream",
     "text": [
      "Epoch 0: 1.0254\n",
      "Epoch 10 : 1.0161\n",
      "Epoch 20 : 1.0076\n",
      "Epoch 30 : 0.9997\n",
      "Epoch 40 : 0.992\n",
      "Epoch 50 : 0.9846\n",
      "Epoch 60 : 0.9771\n",
      "Epoch 70 : 0.9696\n",
      "Epoch 80 : 0.9618\n",
      "Epoch 90 : 0.9536\n",
      "Epoch 100 : 0.9449\n",
      "Epoch 110 : 0.9356\n",
      "Epoch 120 : 0.9254\n",
      "Epoch 130 : 0.9143\n",
      "Epoch 140 : 0.9021\n",
      "Epoch 150 : 0.8887\n",
      "Epoch 160 : 0.8741\n",
      "Epoch 170 : 0.8583\n",
      "Epoch 180 : 0.8414\n",
      "Epoch 190 : 0.8235\n",
      "Epoch 200 : 0.8047\n",
      "Epoch 210 : 0.7855\n",
      "Epoch 220 : 0.766\n",
      "Epoch 230 : 0.7464\n",
      "Epoch 240 : 0.7271\n",
      "Epoch 250 : 0.7081\n",
      "Epoch 260 : 0.6895\n",
      "Epoch 270 : 0.6715\n",
      "Epoch 280 : 0.6541\n",
      "Epoch 290 : 0.6374\n",
      "Epoch 300 : 0.6212\n",
      "Epoch 310 : 0.6057\n",
      "Epoch 320 : 0.5908\n",
      "Epoch 330 : 0.5765\n",
      "Epoch 340 : 0.5627\n",
      "Epoch 350 : 0.5494\n",
      "Epoch 360 : 0.5367\n",
      "Epoch 370 : 0.5243\n",
      "Epoch 380 : 0.5125\n",
      "Epoch 390 : 0.501\n",
      "Epoch 400 : 0.4899\n",
      "Epoch 410 : 0.4792\n",
      "Epoch 420 : 0.4689\n",
      "Epoch 430 : 0.4589\n",
      "Epoch 440 : 0.4491\n",
      "Epoch 450 : 0.4397\n",
      "Epoch 460 : 0.4306\n",
      "Epoch 470 : 0.4217\n",
      "Epoch 480 : 0.4131\n",
      "Epoch 490 : 0.4048\n",
      "Epoch 500 : 0.3967\n",
      "Epoch 510 : 0.3888\n",
      "Epoch 520 : 0.3811\n",
      "Epoch 530 : 0.3736\n",
      "Epoch 540 : 0.3664\n",
      "Epoch 550 : 0.3593\n",
      "Epoch 560 : 0.3525\n",
      "Epoch 570 : 0.3458\n",
      "Epoch 580 : 0.3393\n",
      "Epoch 590 : 0.333\n",
      "Epoch 600 : 0.3268\n",
      "Epoch 610 : 0.3209\n",
      "Epoch 620 : 0.315\n",
      "Epoch 630 : 0.3094\n",
      "Epoch 640 : 0.3038\n",
      "Epoch 650 : 0.2984\n",
      "Epoch 660 : 0.2932\n",
      "Epoch 670 : 0.2881\n",
      "Epoch 680 : 0.2831\n",
      "Epoch 690 : 0.2783\n",
      "Epoch 700 : 0.2736\n",
      "Epoch 710 : 0.269\n",
      "Epoch 720 : 0.2646\n",
      "Epoch 730 : 0.2602\n",
      "Epoch 740 : 0.256\n",
      "Epoch 750 : 0.2518\n",
      "Epoch 760 : 0.2478\n",
      "Epoch 770 : 0.2439\n",
      "Epoch 780 : 0.2401\n",
      "Epoch 790 : 0.2364\n",
      "Epoch 800 : 0.2327\n",
      "Epoch 810 : 0.2292\n",
      "Epoch 820 : 0.2257\n",
      "Epoch 830 : 0.2224\n",
      "Epoch 840 : 0.2191\n",
      "Epoch 850 : 0.2159\n",
      "Epoch 860 : 0.2128\n",
      "Epoch 870 : 0.2098\n",
      "Epoch 880 : 0.2068\n",
      "Epoch 890 : 0.2039\n",
      "Epoch 900 : 0.2011\n",
      "Epoch 910 : 0.1983\n",
      "Epoch 920 : 0.1957\n",
      "Epoch 930 : 0.193\n",
      "Epoch 940 : 0.1905\n",
      "Epoch 950 : 0.188\n",
      "Epoch 960 : 0.1856\n",
      "Epoch 970 : 0.1832\n",
      "Epoch 980 : 0.1809\n",
      "Epoch 990 : 0.1786\n",
      "Epoch 1000 : 0.1764\n",
      "Epoch 1010 : 0.1742\n",
      "Epoch 1020 : 0.1721\n",
      "Epoch 1030 : 0.17\n",
      "Epoch 1040 : 0.168\n",
      "Epoch 1050 : 0.166\n",
      "Epoch 1060 : 0.1641\n",
      "Epoch 1070 : 0.1622\n",
      "Epoch 1080 : 0.1604\n",
      "Epoch 1090 : 0.1586\n",
      "Epoch 1100 : 0.1568\n",
      "Epoch 1110 : 0.1551\n",
      "Epoch 1120 : 0.1534\n",
      "Epoch 1130 : 0.1517\n",
      "Epoch 1140 : 0.1501\n",
      "Epoch 1150 : 0.1485\n",
      "Epoch 1160 : 0.147\n",
      "Epoch 1170 : 0.1455\n",
      "Epoch 1180 : 0.144\n",
      "Epoch 1190 : 0.1425\n",
      "Epoch 1200 : 0.1411\n",
      "Epoch 1210 : 0.1397\n",
      "Epoch 1220 : 0.1384\n",
      "Epoch 1230 : 0.137\n",
      "Epoch 1240 : 0.1357\n",
      "Epoch 1250 : 0.1344\n",
      "Epoch 1260 : 0.1332\n",
      "Epoch 1270 : 0.1319\n",
      "Epoch 1280 : 0.1307\n",
      "Epoch 1290 : 0.1295\n",
      "Epoch 1300 : 0.1284\n",
      "Epoch 1310 : 0.1272\n",
      "Epoch 1320 : 0.1261\n",
      "Epoch 1330 : 0.125\n",
      "Epoch 1340 : 0.1239\n",
      "Epoch 1350 : 0.1229\n",
      "Epoch 1360 : 0.1218\n",
      "Epoch 1370 : 0.1208\n",
      "Epoch 1380 : 0.1198\n",
      "Epoch 1390 : 0.1188\n",
      "Epoch 1400 : 0.1179\n",
      "Epoch 1410 : 0.1169\n",
      "Epoch 1420 : 0.116\n",
      "Epoch 1430 : 0.1151\n",
      "Epoch 1440 : 0.1142\n",
      "Epoch 1450 : 0.1133\n",
      "Epoch 1460 : 0.1124\n",
      "Epoch 1470 : 0.1116\n",
      "Epoch 1480 : 0.1107\n",
      "Epoch 1490 : 0.1099\n",
      "Epoch 1500 : 0.1091\n",
      "Epoch 1510 : 0.1083\n",
      "Epoch 1520 : 0.1075\n",
      "Epoch 1530 : 0.1068\n",
      "Epoch 1540 : 0.106\n",
      "Epoch 1550 : 0.1053\n",
      "Epoch 1560 : 0.1045\n",
      "Epoch 1570 : 0.1038\n",
      "Epoch 1580 : 0.1031\n",
      "Epoch 1590 : 0.1024\n",
      "Epoch 1600 : 0.1017\n",
      "Epoch 1610 : 0.101\n",
      "Epoch 1620 : 0.1004\n",
      "Epoch 1630 : 0.0997\n",
      "Epoch 1640 : 0.0991\n",
      "Epoch 1650 : 0.0984\n",
      "Epoch 1660 : 0.0978\n",
      "Epoch 1670 : 0.0972\n",
      "Epoch 1680 : 0.0966\n",
      "Epoch 1690 : 0.096\n",
      "Epoch 1700 : 0.0954\n",
      "Epoch 1710 : 0.0948\n",
      "Epoch 1720 : 0.0942\n",
      "Epoch 1730 : 0.0937\n",
      "Epoch 1740 : 0.0931\n",
      "Epoch 1750 : 0.0926\n",
      "Epoch 1760 : 0.092\n",
      "Epoch 1770 : 0.0915\n",
      "Epoch 1780 : 0.091\n",
      "Epoch 1790 : 0.0905\n",
      "Epoch 1800 : 0.09\n",
      "Epoch 1810 : 0.0895\n",
      "Epoch 1820 : 0.089\n",
      "Epoch 1830 : 0.0885\n",
      "Epoch 1840 : 0.088\n",
      "Epoch 1850 : 0.0875\n",
      "Epoch 1860 : 0.087\n",
      "Epoch 1870 : 0.0866\n",
      "Epoch 1880 : 0.0861\n",
      "Epoch 1890 : 0.0857\n",
      "Epoch 1900 : 0.0852\n",
      "Epoch 1910 : 0.0848\n",
      "Epoch 1920 : 0.0843\n",
      "Epoch 1930 : 0.0839\n",
      "Epoch 1940 : 0.0835\n",
      "Epoch 1950 : 0.0831\n",
      "Epoch 1960 : 0.0827\n",
      "Epoch 1970 : 0.0822\n",
      "Epoch 1980 : 0.0818\n",
      "Epoch 1990 : 0.0814\n",
      "Epoch 2000 : 0.081\n"
     ]
    },
    {
     "data": {
      "image/png": "[encoded data removed]",
      "text/plain": [
       "<Figure size 640x480 with 1 Axes>"
      ]
     },
     "metadata": {},
     "output_type": "display_data"
    }
   ],
   "source": [
    "\"\"\"\n",
    "Act 8: Run LORMA on the MovieLens dataset.\n",
    "\"\"\"\n",
    "# 1. Normalize the copied matrix\n",
    "rankings_matrix_normalized = get_normalized_matrix(ratings_matrix_processed, rankings_observed)\n",
    "\n",
    "# 2. Define the parameters for LORMA\n",
    "k, epochs, eta = 40, 2000, 10.0 #rank, number of epochs and learning rate\n",
    "etas = eta * np.ones(epochs)\n",
    "params = k, epochs, etas\n",
    "\n",
    "# 3. Run LORMA using the lorma_learn function\n",
    "A, B, losses = lorma_learn(ratings_matrix_processed, rankings_observed, params)\n",
    "\n",
    "# 4. Plot the losses to make sure they are decreasing (given)\n",
    "_ = plt.plot(losses, '-o')"
   ]
  },
  {
   "cell_type": "markdown",
   "metadata": {
    "id": "EfsFqwI5OpDP"
   },
   "source": [
    "<hr style=\"border:3px solid blue\"> </hr>\n",
    "\n",
    "## Act 9: Predicting Movie Preferences\n",
    "\n",
    "In this final section, you'll analyze the movie preferences and predicted ratings for 3 users in our dataset (user 1, 13, and 111).\n",
    "\n",
    "We provide most of the analysis code; you'll fill in a few statements related to accessing information from the dataset."
   ]
  },
  {
   "cell_type": "markdown",
   "metadata": {
    "id": "yRr1OFXhOvsy"
   },
   "source": [
    "### Act 9a: Loading movie information dataset (3 pts)\n",
    "\n",
    "Once again, use the [pd.read_csv](https://pandas.pydata.org/docs/reference/api/pandas.read_csv.html) to read the MovieLens movies dataset as a pandas DataFrame. Specifically, we'll be loading data from the `movies.csv` file provided as part of the assignment files.\n",
    "\n",
    "Credits: [MovieLens GitHub](https://github.com/khanhnamle1994/movielens/blob/master/movies.csv)"
   ]
  },
  {
   "cell_type": "code",
   "execution_count": 15,
   "metadata": {
    "colab": {
     "base_uri": "https://localhost:8080/",
     "height": 206
    },
    "executionInfo": {
     "elapsed": 419,
     "status": "ok",
     "timestamp": 1730497401744,
     "user": {
      "displayName": "Meenal Parakh",
      "userId": "16783211202843909075"
     },
     "user_tz": 240
    },
    "id": "InDK7VayOpS3",
    "outputId": "bf2442d0-1f61-421a-e3f7-639bd40b5572"
   },
   "outputs": [
    {
     "data": {
      "text/html": [
       "<div>\n",
       "<style scoped>\n",
       "    .dataframe tbody tr th:only-of-type {\n",
       "        vertical-align: middle;\n",
       "    }\n",
       "\n",
       "    .dataframe tbody tr th {\n",
       "        vertical-align: top;\n",
       "    }\n",
       "\n",
       "    .dataframe thead th {\n",
       "        text-align: right;\n",
       "    }\n",
       "</style>\n",
       "<table border=\"1\" class=\"dataframe\">\n",
       "  <thead>\n",
       "    <tr style=\"text-align: right;\">\n",
       "      <th></th>\n",
       "      <th>movieId</th>\n",
       "      <th>title</th>\n",
       "      <th>genres</th>\n",
       "    </tr>\n",
       "  </thead>\n",
       "  <tbody>\n",
       "    <tr>\n",
       "      <th>0</th>\n",
       "      <td>0</td>\n",
       "      <td>Toy Story (1995)</td>\n",
       "      <td>Adventure|Animation|Children|Comedy|Fantasy</td>\n",
       "    </tr>\n",
       "    <tr>\n",
       "      <th>1</th>\n",
       "      <td>1</td>\n",
       "      <td>Jumanji (1995)</td>\n",
       "      <td>Adventure|Children|Fantasy</td>\n",
       "    </tr>\n",
       "    <tr>\n",
       "      <th>2</th>\n",
       "      <td>2</td>\n",
       "      <td>Grumpier Old Men (1995)</td>\n",
       "      <td>Comedy|Romance</td>\n",
       "    </tr>\n",
       "    <tr>\n",
       "      <th>3</th>\n",
       "      <td>3</td>\n",
       "      <td>Waiting to Exhale (1995)</td>\n",
       "      <td>Comedy|Drama|Romance</td>\n",
       "    </tr>\n",
       "    <tr>\n",
       "      <th>4</th>\n",
       "      <td>4</td>\n",
       "      <td>Father of the Bride Part II (1995)</td>\n",
       "      <td>Comedy</td>\n",
       "    </tr>\n",
       "  </tbody>\n",
       "</table>\n",
       "</div>"
      ],
      "text/plain": [
       "   movieId                               title  \\\n",
       "0        0                    Toy Story (1995)   \n",
       "1        1                      Jumanji (1995)   \n",
       "2        2             Grumpier Old Men (1995)   \n",
       "3        3            Waiting to Exhale (1995)   \n",
       "4        4  Father of the Bride Part II (1995)   \n",
       "\n",
       "                                        genres  \n",
       "0  Adventure|Animation|Children|Comedy|Fantasy  \n",
       "1                   Adventure|Children|Fantasy  \n",
       "2                               Comedy|Romance  \n",
       "3                         Comedy|Drama|Romance  \n",
       "4                                       Comedy  "
      ]
     },
     "execution_count": 15,
     "metadata": {},
     "output_type": "execute_result"
    }
   ],
   "source": [
    "# Load the movies\n",
    "# The data consists of rows which are movie IDs\n",
    "movie_info_path = 'movies.csv' \n",
    "movie_info_df = pd.read_csv(movie_info_path) # loads the dataset as a Pandas dataframe\n",
    "movie_info_df.head() # displays first 5 rows of dataframe"
   ]
  },
  {
   "cell_type": "markdown",
   "metadata": {
    "id": "lZz54nyNOx5_"
   },
   "source": [
    "### Act 9b: User Analysis (5 pts)\n",
    "\n",
    "In the next cell, you'll analyze the user data for 3 specific users.\n",
    "\n",
    "For each of the 3 users, we first compute the top `p` (i.e. top 10) movies that were most highly rated by that user.\n",
    "\n",
    "Then, in the inner for loop (`for movie in top_p`), store the movie title, user rating, and movie genre in their respective variables. Finally, you'll print out that information for the top `p` movies for that user.\n",
    "\n",
    "### Hints:\n",
    "- Get the user rating from the unnormalized matrix (i.e. `ratings_matrix_processed`)\n",
    "- Note that the `movie_info_df` may have more movies than the `ratings_matrix_processed` which contains our user ratings (i.e. there are some movies for which we don't have user data). Instead of directly indexing into the `movie_info_df` data frame, you should select the rows using the `movieId` field. That is, find the `movieId`'s of the `top_p` movies of a given user, and look for those movie ids in the `movie_info_df`.\n",
    "- Use the [`.squeeze()`](https://pandas.pydata.org/docs/reference/api/pandas.DataFrame.squeeze.html) function on `movie_info_df` to get the movie title and movie genre"
   ]
  },
  {
   "cell_type": "code",
   "execution_count": 16,
   "metadata": {},
   "outputs": [
    {
     "name": "stdout",
     "output_type": "stream",
     "text": [
      "\n",
      "User 1 liked the following:\n",
      "\n",
      "\tThe Jinx: The Life and Deaths of Robert Durst (2015) rated 5.0  genres Documentary                   \n",
      "\tMad Max: Fury Road (2015)                          rated 5.0  genres Action|Adventure|Sci-Fi|Thriller\n",
      "\tWolf of Wall Street, The (2013)                    rated 5.0  genres Comedy|Crime|Drama            \n",
      "\tWarrior (2011)                                     rated 5.0  genres Drama                         \n",
      "\tInside Job (2010)                                  rated 5.0  genres Documentary                   \n",
      "\tStep Brothers (2008)                               rated 5.0  genres Comedy                        \n",
      "\tInglourious Basterds (2009)                        rated 4.5  genres Action|Drama|War              \n",
      "\tTown, The (2010)                                   rated 4.5  genres Crime|Drama|Thriller          \n",
      "\tGood Will Hunting (1997)                           rated 4.5  genres Drama|Romance                 \n",
      "\tDark Knight, The (2008)                            rated 4.5  genres Action|Crime|Drama|IMAX       \n",
      "\n",
      "User 13 liked the following:\n",
      "\n",
      "\tSeven (a.k.a. Se7en) (1995)                        rated 5.0  genres Mystery|Thriller              \n",
      "\tPiano, The (1993)                                  rated 5.0  genres Drama|Romance                 \n",
      "\tWhat's Eating Gilbert Grape (1993)                 rated 5.0  genres Drama                         \n",
      "\tBroken Arrow (1996)                                rated 5.0  genres Action|Adventure|Thriller     \n",
      "\tBraveheart (1995)                                  rated 5.0  genres Action|Drama|War              \n",
      "\tNell (1994)                                        rated 5.0  genres Drama                         \n",
      "\tLegends of the Fall (1994)                         rated 5.0  genres Drama|Romance|War|Western     \n",
      "\tTombstone (1993)                                   rated 4.0  genres Action|Drama|Western          \n",
      "\tWhat's Love Got to Do with It? (1993)              rated 4.0  genres Drama|Musical                 \n",
      "\tWyatt Earp (1994)                                  rated 4.0  genres Western                       \n",
      "\n",
      "User 111 liked the following:\n",
      "\n",
      "\tSeven (a.k.a. Se7en) (1995)                        rated 5.0  genres Mystery|Thriller              \n",
      "\tUsual Suspects, The (1995)                         rated 5.0  genres Crime|Mystery|Thriller        \n",
      "\tInterstellar (2014)                                rated 5.0  genres Sci-Fi|IMAX                   \n",
      "\tDark Knight Rises, The (2012)                      rated 5.0  genres Action|Adventure|Crime|IMAX   \n",
      "\tDark Knight, The (2008)                            rated 5.0  genres Action|Crime|Drama|IMAX       \n",
      "\tStar Wars: Episode VI - Return of the Jedi (1983)  rated 5.0  genres Action|Adventure|Sci-Fi       \n",
      "\tIndependence Day (a.k.a. ID4) (1996)               rated 5.0  genres Action|Adventure|Sci-Fi|Thriller\n",
      "\tStar Wars: Episode V - The Empire Strikes Back (1980) rated 5.0  genres Action|Adventure|Sci-Fi       \n",
      "\tRaiders of the Lost Ark (Indiana Jones and the Raiders of the Lost Ark) (1981) rated 5.0  genres Action|Adventure              \n",
      "\tArmageddon (1998)                                  rated 5.0  genres Action|Romance|Sci-Fi|Thriller\n"
     ]
    }
   ],
   "source": [
    "\"\"\"\n",
    "We'll pick three users and see what movies they rated highly before, and what movies your model predicted.\n",
    "Hopefully there is some correlation!\n",
    "\n",
    "In this cell you will print out the top-p movies they rated most highly.\n",
    "\"\"\"\n",
    "\n",
    "# Pick three users to recommend movies to\n",
    "users = [1, 13, 111]\n",
    "\n",
    "# Let's see their tastes. Print the top-p movies they have rated highly\n",
    "p = 10\n",
    "\n",
    "# obtain the movie ids corresponding to the columns in `ratings_matrix_processed`\n",
    "movie_ids = ratings_matrix_df.columns\n",
    "\n",
    "for user in users:\n",
    "    print(f\"\\nUser {user} liked the following:\\n\")\n",
    "\n",
    "    # Sort the movies for this user in descending order based on the rating\n",
    "    movie_order = np.argsort(-ratings_matrix_processed[user])\n",
    "    top_p = movie_order[:p]\n",
    "\n",
    "    # Print the top p movies\n",
    "    for movie in top_p:\n",
    "        # Obtain the movie title, user rating, and movie genre\n",
    "        movie_id = movie_ids[movie]\n",
    "        movie_info = movie_info_df[movie_info_df['movieId'] == movie_id].squeeze()\n",
    "        movie_title = movie_info['title']\n",
    "        user_rating = ratings_matrix_processed[user, movie]\n",
    "        movie_genre = movie_info['genres']\n",
    "        print(\"\\t{:<50} rated {:.1f}  genres {:<30}\".format(\n",
    "            movie_title,\n",
    "            user_rating,\n",
    "            movie_genre)\n",
    "        )\n"
   ]
  },
  {
   "cell_type": "markdown",
   "metadata": {
    "id": "e_nxDiUWO8ah"
   },
   "source": [
    "### Act 9c: Recommended Movies (4 pts)\n",
    "\n",
    "In the next cell, you'll print out the top `p` (i.e. top 10) movies that are predicted for the 3 users we're studying.\n",
    "\n",
    "For each of the 3 users, we first compute the predicted ratings for that user and save the top `p` predicted movies in descending order (we set the ratings for observed movies to -infinity so that we only save the top `p` movies that haven't been rated by the user).\n",
    "\n",
    "Then, in the inner for loop (`for movie in top_p`), store the movie title and movie genre (this should be similar to what you did in Act 9b)."
   ]
  },
  {
   "cell_type": "code",
   "execution_count": 17,
   "metadata": {
    "colab": {
     "base_uri": "https://localhost:8080/"
    },
    "executionInfo": {
     "elapsed": 194,
     "status": "ok",
     "timestamp": 1730497831035,
     "user": {
      "displayName": "Meenal Parakh",
      "userId": "16783211202843909075"
     },
     "user_tz": 240
    },
    "id": "s7zXgq_JO_XL",
    "outputId": "f98a5d7b-df28-4423-9b54-fe68893b41fc"
   },
   "outputs": [
    {
     "name": "stdout",
     "output_type": "stream",
     "text": [
      "\n",
      "Recommend the following movies to User 1\n",
      "\n",
      "\tDumb & Dumber (Dumb and Dumber) (1994)                       genres Adventure|Comedy              \n",
      "\tCable Guy, The (1996)                                        genres Comedy|Thriller               \n",
      "\tAustin Powers: The Spy Who Shagged Me (1999)                 genres Action|Adventure|Comedy       \n",
      "\tGraduate, The (1967)                                         genres Comedy|Drama|Romance          \n",
      "\tAristocats, The (1970)                                       genres Animation|Children            \n",
      "\tKid, The (2000)                                              genres Comedy|Fantasy                \n",
      "\tEat Drink Man Woman (Yin shi nan nu) (1994)                  genres Comedy|Drama|Romance          \n",
      "\tJurassic Park (1993)                                         genres Action|Adventure|Sci-Fi|Thriller\n",
      "\tAnnie Hall (1977)                                            genres Comedy|Romance                \n",
      "\tThis Is Spinal Tap (1984)                                    genres Comedy                        \n",
      "\n",
      "Recommend the following movies to User 13\n",
      "\n",
      "\tMemento (2000)                                               genres Mystery|Thriller              \n",
      "\tPunch-Drunk Love (2002)                                      genres Comedy|Drama|Romance          \n",
      "\tKill Bill: Vol. 2 (2004)                                     genres Action|Drama|Thriller         \n",
      "\tAmerican Beauty (1999)                                       genres Drama|Romance                 \n",
      "\tPowder (1995)                                                genres Drama|Sci-Fi                  \n",
      "\tFirm, The (1993)                                             genres Drama|Thriller                \n",
      "\tThree Colors: Blue (Trois couleurs: Bleu) (1993)             genres Drama                         \n",
      "\tDisclosure (1994)                                            genres Drama|Thriller                \n",
      "\tEntrapment (1999)                                            genres Crime|Thriller                \n",
      "\tContact (1997)                                               genres Drama|Sci-Fi                  \n",
      "\n",
      "Recommend the following movies to User 111\n",
      "\n",
      "\tM*A*S*H (a.k.a. MASH) (1970)                                 genres Comedy|Drama|War              \n",
      "\tAkira (1988)                                                 genres Action|Adventure|Animation|Sci-Fi\n",
      "\tMystery Science Theater 3000: The Movie (1996)               genres Comedy|Sci-Fi                 \n",
      "\tSnake Eyes (1998)                                            genres Action|Crime|Mystery|Thriller \n",
      "\t2001: A Space Odyssey (1968)                                 genres Adventure|Drama|Sci-Fi        \n",
      "\tShaun of the Dead (2004)                                     genres Comedy|Horror                 \n",
      "\tJohn Wick (2014)                                             genres Action|Thriller               \n",
      "\tTombstone (1993)                                             genres Action|Drama|Western          \n",
      "\tEx Machina (2015)                                            genres Drama|Sci-Fi|Thriller         \n",
      "\tBirdman: Or (The Unexpected Virtue of Ignorance) (2014)      genres Comedy|Drama                  \n"
     ]
    }
   ],
   "source": [
    "\"\"\"\n",
    "User 1 seems to like Drama and Action/Crime\n",
    "User 13 seems to like Drama and Romance\n",
    "User 111 seems to like Sci-Fi and Action\n",
    "\n",
    "Now let's make our predictions on the test data and see what movies we can recommend\n",
    "\n",
    "\"\"\"\n",
    "\n",
    "for user in users:\n",
    "    print(f\"\\nRecommend the following movies to User {user}\\n\")\n",
    "\n",
    "    # Predict the rating for these movies by performing a matrix multiplication between the user and movie vectors\n",
    "    predicted_ratings = A[user,:] @ B\n",
    "\n",
    "    # If the movie review was observed in the matrix, set it to (-infinity) so that we don't predict it\n",
    "    # We want to predict only from a set of movies which the user has not seen\n",
    "    predicted_ratings[rankings_observed[user] == 1] = -np.inf\n",
    "\n",
    "    # Choose the top_p movies\n",
    "    predicted_movie_order = np.argsort(-predicted_ratings)\n",
    "    top_p = predicted_movie_order[:p]\n",
    "\n",
    "    # Print the recommended movies\n",
    "    for movie in top_p:\n",
    "      movie_id = movie_ids[movie]\n",
    "      movie_info = movie_info_df[movie_info_df['movieId'] == movie_id].squeeze()\n",
    "      movie_title = movie_info['title']\n",
    "      movie_genre = movie_info['genres']\n",
    "      user_rating = ratings_matrix_processed[user, movie] # should be -1 as recommended movies are unobserved\n",
    "      print(\"\\t{:<60} genres {:<30}\".format(movie_title[:60], # cap length of movie title to 60 char\n",
    "                                            movie_genre))"
   ]
  },
  {
   "cell_type": "markdown",
   "metadata": {
    "id": "EEMlUesoPj7j"
   },
   "source": [
    "### ACT 9d: Answer the following question in the cell below (10 pts)\n",
    "\n",
    "**Question:** Do you see any correlation between the top rated movies (Act 9b) and the top predicted movies (Act 9c)?\n",
    "\n",
    "**For each user**, answer the question and briefly explain your reasoning in **1 sentence (total 3 sentences; 1 per user).**\n",
    "\n",
    "For each user,\n",
    "- If yes, briefly explain the correlation you observe.\n",
    "- If no, briefly explain why you don't believe there's a correlation between their top rated movies and top predicted movies.\n",
    "\n",
    "**Note:** The correlation, if there's any, may be weak.\n",
    "\n",
    "**Answer:**\n",
    "\n",
    "**TODO: Your answer here!** \n",
    "\n",
    "User 1 primarily liked Action/Crime and Drama films; a couple of Drama and Action films have been recommended. While user 1 had originally liked a couple of comedy films, the set of recommended films are disproportionately comedy films. Overall, there is a weak correlation between the top rated and predicted movies.\n",
    "\n",
    "User 13 primarily liked Drama, Romance and Western films; some Romance but primarily Drama films have been recommended. A large portion of the Drama films recommended are Sci-Fi and Thriller, which does not seem to be of user 13's taste. Again, overall, there is a correlation between the top rated and recommended films. \n",
    "\n",
    "User 111 primarily liked Sci-Fi, Action/Adventure, IMAX films; many Action, Adventure and Sci-Fi films have been recommended. Although no IMAX films were recommended, there is overall a good correlation between the top rated and recommended films. "
   ]
  }
 ],
 "metadata": {
  "colab": {
   "provenance": []
  },
  "kernelspec": {
   "display_name": "Python 3 (ipykernel)",
   "language": "python",
   "name": "python3"
  },
  "language_info": {
   "codemirror_mode": {
    "name": "ipython",
    "version": 3
   },
   "file_extension": ".py",
   "mimetype": "text/x-python",
   "name": "python",
   "nbconvert_exporter": "python",
   "pygments_lexer": "ipython3",
   "version": "3.12.2"
  }
 },
 "nbformat": 4,
 "nbformat_minor": 4
}
